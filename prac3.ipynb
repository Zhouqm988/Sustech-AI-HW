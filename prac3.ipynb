{
 "cells": [
  {
   "cell_type": "markdown",
   "metadata": {},
   "source": [
    "# Introduction to Artificial Intelligence for Non Computing"
   ]
  },
  {
   "cell_type": "markdown",
   "metadata": {},
   "source": [
    "## Practical 3 (weeks 5 - 6)"
   ]
  },
  {
   "cell_type": "markdown",
   "metadata": {},
   "source": [
    "The following links provide additional information about data analysis , machine learning and Numpy"
   ]
  },
  {
   "cell_type": "markdown",
   "metadata": {},
   "source": [
    "Python data analysis: https://www.imooc.com/learn/843\n",
    "machine learning: https://www.imooc.com/learn/717\n",
    "Numpy :https://www.imooc.com/learn/943"
   ]
  },
  {
   "cell_type": "markdown",
   "metadata": {},
   "source": [
    "#### Theory Questions"
   ]
  },
  {
   "cell_type": "markdown",
   "metadata": {},
   "source": [
    "1\\.Which of the following are true and which are false? Give brief explanations.\n",
    "- a. In a fully observable, turn-taking, zero-sum game between two perfectly rational players,it does not help the first player to know what strategy the second player is using—that is, what move the second player will make, given the first player's move.\n",
    "- b. In a partially observable, turn-taking, zero-sum game between two perfectly rational players, it does not help the first player to know what move the second player will make, given the first player's move.\n",
    "- c. A perfectly rational backgammon agent never loses.\n",
    "\n",
    "See textbook Chapter6 24.6"
   ]
  },
  {
   "cell_type": "markdown",
   "metadata": {},
   "source": [
    "a.True.Each player will optiamize their each move everytime.Thus, they can predict other's next move, which means that the next move of the second player will not affect the first player's decision.\n",
    "\n",
    "b.False. Since the condition is partially observable, knowing the move of the second player will be tell additional information about the game to the first palyer. Otherwise,those information will only be available for the second player. \n",
    "\n",
    "c.False.In backgammon game, two player have the same chance to win at the beginning. Since, the optimal stragety may change time by time and one of the player may have continously better move, what we can conclude is that the winner have optimal move.\n",
    "\n",
    "\n",
    "***"
   ]
  },
  {
   "cell_type": "markdown",
   "metadata": {},
   "source": [
    "2\\.Define in your own words the terms constraint, backtracking search, arc consistency,backjumping, min-conflicts, and cycle cutset.\n",
    "\n",
    "See textbook Chapter6 6.16"
   ]
  },
  {
   "cell_type": "markdown",
   "metadata": {},
   "source": [
    "Constraint: constraint is a kind of restriction that can limit some behavior between or among variables\n",
    "\n",
    "Backtracking search: backtracking search is used for a depth-first earch that chooses values for one variable at a time and backtracks when a variable has no legel values left to assign.\n",
    "\n",
    "Arc consistency: a variable in constraint satisfaction problem is arc-consistent if every value in its domain satisfies the variable's binary constraints. While a network is arc-consistent if every variable is arc consistent with every other variable.\n",
    "\n",
    "Backjumping:the backjumping is a kind of method that backtracks to the most recent assignment in the conflict set.\n",
    "\n",
    "Min-conflict: the min-conflict method for solving CSPs by local search and is a kind of heuristic algromith. The new variable will be chosen by selecting the value that results in the minimum number of conglicts with other variables.\n",
    "\n",
    "    Cycle cutset: cycle cutset is a subset  of the CSP's variables such that the constraint graph becomes a tree after removal of it.\n",
    "    \n",
    "\n",
    "***"
   ]
  },
  {
   "cell_type": "markdown",
   "metadata": {},
   "source": [
    "3\\.Explain why it is a good heuristic to choose the variable that is most constrained but the value that is least constraining in a CSP search.\n",
    "\n",
    "See textbook Chapter6 6.9"
   ]
  },
  {
   "cell_type": "markdown",
   "metadata": {},
   "source": [
    "The reason that choosing the most constrained variable is that the variable is likely to fail which will raise up the efficient for it can cause to failure as early as possible. That will save large part if the search space.\n",
    "\n",
    "The reason that choosing the least constraining value is that it raise up the chance for future operations with avoiding conflict.\n",
    "\n",
    "***"
   ]
  },
  {
   "cell_type": "markdown",
   "metadata": {},
   "source": [
    "4\\.Consider the following procedure for choosing moves in games with chance nodes: \n",
    "- 1、Generate some dice-roll sequences (say, 50) down to a suitable depth (say, 8).\n",
    "- 2、With known dice rolls, the game tree becomes deterministic. For each dice-roll sequence,solve the resulting deterministic game tree using alpha-beta.\n",
    "- 3、Use the results to estimate the value of each move and to choose the best.Will this procedure work well? Why (or why not)?\n",
    "\n",
    "See textbook Chapter5 5.19"
   ]
  },
  {
   "cell_type": "markdown",
   "metadata": {},
   "source": [
    "No, it won't give out the correct result. Though in mathematical thoery, the method will average commutes each move with max and min, in reality it won't. Besides, the choice of each player in the determinsitic trees are made with complete knowledge of future dice rolls and bear no necessary correlation to the moves without those knowledge.\n",
    "***"
   ]
  },
  {
   "cell_type": "markdown",
   "metadata": {},
   "source": [
    "5\\. Now,please consider this game:  there are three plates A, B and C, each plate has three bills. A puts 1, 20, 50; B puts 5, 10, 100; C puts 1, 5, 20. All units are \"Yuan\". There are two persons A and B, and two of them can check out three plates and banknotes .（ A is ourself, The other is B）\n",
    "The game is divided into three steps: \n",
    "- 1、A select a plate from three plate.\n",
    "- 2、B take out two banknotes from A selected plate,and give the  banknotes to A.  \n",
    "- 3、A take one of the two banknotes, and take it away.among,A want to get the max banknotes, B want to let A to get the min.\n",
    "\n",
    "Try to understand the minimax algorithm，you can click the link:https://blog.csdn.net/tangchenyi/article/details/22920031"
   ]
  },
  {
   "cell_type": "markdown",
   "metadata": {},
   "source": [
    "As A, I will choose the first plate, for it will bring the maximum utilty for me.\n",
    "If I choose the first plate, B will choose 1 and 20 banknotes for me, and I will finally take the 20 banknotes.\n",
    "If I choose the second plate, B will choose 5 and 10 banknotes for me, and I can only get 10 banknotes at last.\n",
    "If I choose the third plate, B will choose 1 and 5 banknotes for me, and I can only get 5 bankenotes at last.\n",
    "Thus, I choose the first plate\n",
    "\n",
    "***"
   ]
  },
  {
   "cell_type": "markdown",
   "metadata": {},
   "source": [
    "### Programming Excercises"
   ]
  },
  {
   "cell_type": "markdown",
   "metadata": {},
   "source": [
    "1\\. Guess number(Single number): please generate a randomly number  with the function (random), then ask someone to guess the number,I think we should give the corresponding hint, otherwise it will be very difficult to guess the number.the game will be over untill you get the right number."
   ]
  },
  {
   "cell_type": "code",
   "execution_count": 1,
   "metadata": {},
   "outputs": [
    {
     "name": "stdout",
     "output_type": "stream",
     "text": [
      "gusst a number which is from 0 to 10\n",
      "5\n",
      "your number is bigger\n",
      "try again\n",
      "3\n",
      "Bingo! You're right,the number is 3\n"
     ]
    }
   ],
   "source": [
    "import random\n",
    "def guessnum():\n",
    "    a = random.randint(0,10)\n",
    "    print(\"gusst a number which is from 0 to 10\")\n",
    "    b = int(input())\n",
    "    while b!=a:\n",
    "        if b in range(0,10):\n",
    "            if a>b:\n",
    "                print(\"your number is smaller\")\n",
    "                print(\"try again\")\n",
    "                b=int(input())\n",
    "            else:\n",
    "                print(\"your number is bigger\")\n",
    "                print(\"try again\")\n",
    "                b=int(input())\n",
    "    print(\"Bingo! You're right,the number is {0}\".format(a))\n",
    "\n",
    "guessnum()"
   ]
  },
  {
   "cell_type": "markdown",
   "metadata": {},
   "source": [
    "2\\.if you had understand the guess single number games,Congratulates,next is the guess three number games,Maybe you can do it well.But this is a different way of thinking. \n",
    "first : we need generate three numbers,there are most ten times chances give  you to guess the number,of course,we also give you some cue.\n",
    "\n",
    "- 'When I say:-->It means:\n",
    "- 'error--> The 3 numbers are not in the mystical numbers.'\n",
    "- 'Only the number is correct --> the number is right , but the position is not right.'\n",
    "- 'Absolutely right--> numbers is right and the position also right.'\n",
    "\n",
    "Maybe it's better for you to understand the rule well through see the picture.\n",
    "<div style=\"float:left;\" ><img src=\"img/p1.png\" width=\"400\" height=\"300\" >"
   ]
  },
  {
   "cell_type": "code",
   "execution_count": 2,
   "metadata": {},
   "outputs": [
    {
     "name": "stdout",
     "output_type": "stream",
     "text": [
      "there are 3 numbers, you have 10 chance to guess it\n",
      "this is the 1 time:  500\n",
      "['error', 'error', 'error']\n",
      "this is the 2 time:  123\n",
      "['error', 'error', 'Only the number is correct']\n",
      "this is the 3 time:  346\n",
      "['Only the number is correct', 'error', 'error']\n",
      "this is the 4 time:  738\n",
      "['Absolutely right', 'Absolutely right', 'error']\n",
      "this is the 5 time:  739\n",
      "Congratulations! The number is 739\n",
      "Do you wang to play again?(yes or no)\n",
      "no\n"
     ]
    }
   ],
   "source": [
    "import random\n",
    "def guessnum3(a):\n",
    "    times = 1\n",
    "    a3 =a%10\n",
    "    a2=int((a/10))%10\n",
    "    a1=int((a/100))%10\n",
    "    alist = [a1,a2,a3]\n",
    "    while times < 11:\n",
    "        judge =[]\n",
    "        print(\"this is the {0} time: \".format(times),end=\" \")\n",
    "        b = int(input())\n",
    "        b1 = int((b/100))%10\n",
    "        b2 = int((b/10))%10\n",
    "        b3 = b%10\n",
    "        blist = [b1,b2,b3]\n",
    "        if b1 in alist:\n",
    "            if b1==a1:\n",
    "                judge.append(\"Absolutely right\")\n",
    "            else:\n",
    "                judge.append(\"Only the number is correct\")\n",
    "        else:\n",
    "            judge.append(\"error\")\n",
    "        if b2 in alist:\n",
    "            if b2==a2:\n",
    "                judge.append(\"Absolutely right\")\n",
    "            else:\n",
    "                judge.append(\"Only the number is correct\")\n",
    "        else:\n",
    "            judge.append(\"error\")\n",
    "        if b3 in alist:\n",
    "            if b3==a3:\n",
    "                judge.append(\"Absolutely right\")\n",
    "            else:\n",
    "                judge.append(\"Only the number is correct\")\n",
    "        else:\n",
    "            judge.append(\"error\")\n",
    "\n",
    "        if 'error' in judge:\n",
    "            print(judge)\n",
    "            times = times+1\n",
    "            continue\n",
    "        elif 'Only the number is correct' in judge:\n",
    "            print(judge)\n",
    "            times = times+1\n",
    "            continue\n",
    "        else:\n",
    "           print(\"Congratulations! The number is {0}\".format(a))\n",
    "           print(\"Do you wang to play again?(yes or no)\")\n",
    "           str = input()\n",
    "           if str==\"yes\":\n",
    "               a = random.randint(100,999)\n",
    "               print(\"there are 3 numbers, you have 10 chance to guess it\")\n",
    "               a3 =a%10\n",
    "               a2=(a/10)%10\n",
    "               a1=(a/100)%10\n",
    "               judge =[]\n",
    "               guessnum3(a)\n",
    "           elif str == \"no\":\n",
    "               break\n",
    "    if times >=11:\n",
    "        print(\"you have used up your chance, the answer is {0}\".format(a))\n",
    "a = random.randint(100,999)\n",
    "print(\"there are 3 numbers, you have 10 chance to guess it\")\n",
    "guessnum3(a)\n"
   ]
  },
  {
   "cell_type": "markdown",
   "metadata": {},
   "source": [
    "3\\.please try using Python's Tkinter to make a visual interface（GUI）.if you don't know anything.Maybe you can refer to the below interface.and implement it by code.\n",
    "\n",
    "<div style=\"float:left;\" ><img src=\"img/p2.png\" width=\"200\" height=\"200\" >"
   ]
  },
  {
   "cell_type": "code",
   "execution_count": 3,
   "metadata": {},
   "outputs": [],
   "source": [
    "import tkinter\n",
    "root= tkinter.Tk()\n",
    "root.title('tk')\n",
    "root.geometry('300x400')\n",
    "list=tkinter.Listbox(root)\n",
    "list1=tkinter.Listbox(root)\n",
    "message = ['java','SQL','html','php','python','C']\n",
    "message1=['Bootstrap','jQuery','CSS']\n",
    "for item in message:\n",
    "    list.insert('end',item)\n",
    "for it in message1:\n",
    "    list1.insert('end',it)\n",
    "list.pack()\n",
    "list1.pack()\n",
    "root.mainloop()\n",
    "\n",
    "\n"
   ]
  },
  {
   "cell_type": "markdown",
   "metadata": {},
   "source": [
    "4\\.Through the initial trial of Tkinter,    please write a simple calculator.\n",
    "\n",
    "<div style=\"float:left;\" ><img src=\"img/p3.png\" width=\"180\" height=\"200\" center=\"left\"></div>\n",
    "<div style=\"float:left;\" ><img src=\"img/p4.png\" width=\"180\" height=\"200\" center=\"right\" ></div>"
   ]
  },
  {
   "cell_type": "code",
   "execution_count": 4,
   "metadata": {},
   "outputs": [],
   "source": [
    "import tkinter\n",
    "root = tkinter.Tk()\n",
    "root.title('simple calculator')\n",
    "root.geometry('280x555')\n",
    "result = tkinter.StringVar()\n",
    "result1 = tkinter.StringVar()\n",
    "result.set(0)\n",
    "result1.set('')\n",
    "label = tkinter.Label(root,font=('微软雅黑',20),bg = '#EEE9E9',bd='9',fg='grey',anchor='se',textvariable = result)\n",
    "label1 = tkinter.Label(root,font=('微软雅黑',20),bg = '#EEE9E9',bd='9',fg='black',anchor='se',textvariable = result1)\n",
    "label.place(width=280,height=170)\n",
    "label1.place(y=170,width=280,height=60)\n",
    "\n",
    "btn1 = tkinter.Button(root,text='+',font=('微软雅黑',20),bg=('#FFFFF0'),bd=0.5,fg='black',anchor='center',command=lambda:click('+'))\n",
    "btn1.place(x=0,y=450,width=70,height=55)\n",
    "btn2 = tkinter.Button(root,text='-',font=('微软雅黑',20),bg=('#FFFFF0'),bd=0.5,fg='black',anchor='center',command=lambda:click('-'))\n",
    "btn2.place(x=70,y=450,width=70,height=55)\n",
    "btn3 = tkinter.Button(root,text='*',font=('微软雅黑',20),bg=('#FFFFF0'),bd=0.5,fg='black',anchor='center',command=lambda:click('*'))\n",
    "btn3.place(x=140,y=450,width=70,height=55)\n",
    "btn4 = tkinter.Button(root,text='/',font=('微软雅黑',20),bg=('#FFFFF0'),bd=0.5,fg='black',anchor='center',command=lambda:click('/'))\n",
    "btn4.place(x=210,y=450,width=70,height=55)\n",
    "btn5 = tkinter.Button(root,text='.',font=('微软雅黑',20),bg=('#FFFFF0'),bd=0.5,fg='black',anchor='center',command=lambda:click('.'))\n",
    "btn5.place(x=0,y=395,width=70,height=55)\n",
    "btn6 = tkinter.Button(root,text='9',font=('微软雅黑',20),bg=('#FFFFF0'),bd=0.5,fg='black',anchor='center',command=lambda:click('9'))\n",
    "btn6.place(x=70,y=395,width=70,height=55)\n",
    "btn7 = tkinter.Button(root,text='0',font=('微软雅黑',20),bg=('#FFFFF0'),bd=0.5,fg='black',anchor='center',command=lambda:click('0'))\n",
    "btn7.place(x=140,y=395,width=70,height=55)\n",
    "btn8 = tkinter.Button(root,text='=',font=('微软雅黑',20),bg=('#FFFFF0'),bd=0.5,fg='black',anchor='center',command=lambda:click('='))\n",
    "btn8.place(x=210,y=395,width=70,height=55)\n",
    "btn9 = tkinter.Button(root,text='5',font=('微软雅黑',20),bg=('#FFFFF0'),bd=0.5,fg='black',anchor='center',command=lambda:click('5'))\n",
    "btn9.place(x=0,y=340,width=70,height=55)\n",
    "btn10 = tkinter.Button(root,text='6',font=('微软雅黑',20),bg=('#FFFFF0'),bd=0.5,fg='black',anchor='center',command=lambda:click('6'))\n",
    "btn10.place(x=70,y=340,width=70,height=55)\n",
    "btn11 = tkinter.Button(root,text='7',font=('微软雅黑',20),bg=('#FFFFF0'),bd=0.5,fg='black',anchor='center',command=lambda:click('7'))\n",
    "btn11.place(x=140,y=340,width=70,height=55)\n",
    "btn12= tkinter.Button(root,text='8',font=('微软雅黑',20),bg=('#FFFFF0'),bd=0.5,fg='black',anchor='center',command=lambda:click('8'))\n",
    "btn12.place(x=210,y=340,width=70,height=55)\n",
    "btn13 = tkinter.Button(root,text='1',font=('微软雅黑',20),bg=('#FFFFF0'),bd=0.5,fg='black',anchor='center',command=lambda:click('1'))\n",
    "btn13.place(x=0,y=285,width=70,height=55)\n",
    "btn14= tkinter.Button(root,text='2',font=('微软雅黑',20),bg=('#FFFFF0'),bd=0.5,fg='black',anchor='center',command=lambda:click('2'))\n",
    "btn14.place(x=70,y=285,width=70,height=55)\n",
    "btn15= tkinter.Button(root,text='3',font=('微软雅黑',20),bg=('#FFFFF0'),bd=0.5,fg='black',anchor='center',command=lambda:click('3'))\n",
    "btn15.place(x=140,y=285,width=70,height=55)\n",
    "btn16= tkinter.Button(root,text='4',font=('微软雅黑',20),bg=('#FFFFF0'),bd=0.5,fg='black',anchor='center',command=lambda:click('4'))\n",
    "btn16.place(x=210,y=285,width=70,height=55)\n",
    "btn1 = tkinter.Button(root,text='C',font=('微软雅黑',20),bg=('#FFFFF0'),bd=0.5,fg='black',anchor='center',command=lambda:click('C'))\n",
    "btn1.place(x=0,y=230,width=70,height=55)\n",
    "btn2 = tkinter.Button(root,text='±',font=('微软雅黑',20),bg=('#FFFFF0'),bd=0.5,fg='black',anchor='center',command=lambda:click('±'))\n",
    "btn2.place(x=70,y=230,width=70,height=55)\n",
    "btn3 = tkinter.Button(root,text='←',font=('微软雅黑',20),bg=('#FFFFF0'),bd=0.5,fg='black',anchor='center',command=lambda:click('←'))\n",
    "btn3.place(x=140,y=230,width=70,height=55)\n",
    "btn4 = tkinter.Button(root,text='CE',font=('微软雅黑',20),bg=('#FFFFF0'),bd=0.5,fg='black',anchor='center',command=lambda:click('CE'))\n",
    "btn4.place(x=210,y=230,width=70,height=55)\n",
    "btnhelp = tkinter.Button(root,text='help',font=('微软雅黑',20),bg=('#FFFFF0'),bd=0.5,fg='black',anchor='center',command=lambda:click('help'))\n",
    "btnhelp.place(x=0,y=505,width=280,height=55)\n",
    "\n",
    "def click(action):\n",
    "    content = result1.get()\n",
    "    if action in '0123456789':\n",
    "        content = content + action\n",
    "    if action == '+':\n",
    "        content = content+'+'\n",
    "    if action == '-':\n",
    "        content = content+'-'\n",
    "    if action == '*':\n",
    "         content = content+'*'\n",
    "    if action == '/':\n",
    "        content = content+'/'\n",
    "    if  content.startswith('.'):\n",
    "        content='0'+content\n",
    "    if action == '.':\n",
    "        if '.'not in content:\n",
    "            content=content+'.'\n",
    "        else:\n",
    "            content= 'wrong input'\n",
    "    if action == 'C':\n",
    "        content = ''\n",
    "    if action =='CE':\n",
    "        content = ''\n",
    "        result.set(0)\n",
    "    if action == '±':\n",
    "        if content.startswith('-'):\n",
    "            content=content[1:]\n",
    "        else:\n",
    "            content='-'+content\n",
    "    if action == '←':\n",
    "        content = content[0:-1]\n",
    "    if action == '=':\n",
    "        result.set(content)\n",
    "        content=eval(content)\n",
    "    result1.set(content)\n",
    "\n",
    "root.mainloop()\n"
   ]
  },
  {
   "cell_type": "markdown",
   "metadata": {},
   "source": [
    "5\\.Ball game:Python's pinball game, which can realize the game function of the keyboard control bottom baffle moving collision ball similar to table tennis game. \n",
    "\n",
    "<div style=\"float:left;\" ><img src=\"img/p5.png\" width=\"200\" height=\"200\" center=\"left\"></div>\n",
    "<div style=\"float:left;\" ><img src=\"img/p6.png\" width=\"200\" height=\"200\" center=\"right\" ></div>\n"
   ]
  },
  {
   "cell_type": "markdown",
   "metadata": {},
   "source": [
    "this is a step:how to install the matplotlib,you can reference this link:https://blog.csdn.net/not_give_up_/article/details/79058272\n",
    "1. Ball Class\n",
    "    draw is responsible for moving Ball\n",
    "    Collision detection, bounce, Ball detection of Paddle \n",
    "2. Paddle Class\n",
    "    draw is responsible for moving Paddle\n",
    "    Collision detection to determine whether or not to continue ,Monitor keyboard events\n",
    "3. main cycle\n",
    "    Drawing the Ball and Paddle"
   ]
  },
  {
   "cell_type": "code",
   "execution_count": 5,
   "metadata": {},
   "outputs": [
    {
     "name": "stdout",
     "output_type": "stream",
     "text": [
      "Game over, the ball falls. You have sucessfully catch the ball 0 times\n"
     ]
    }
   ],
   "source": [
    "import tkinter\n",
    "import time\n",
    "import random\n",
    "import ctypes\n",
    "\n",
    "root = tkinter.Tk()\n",
    "root.title('Ball Game')\n",
    "root.resizable(False, False)\n",
    "canvas = tkinter.Canvas(root, width=500, height=500)\n",
    "canvas.pack()\n",
    "one = canvas.create_text(10,10)\n",
    "root.update()\n",
    "\n",
    "class Ball:\n",
    "    def __init__(self, canvas,paddle ,color,score):\n",
    "        self.canvas = canvas\n",
    "        self.paddle = paddle\n",
    "        self.id = canvas.create_oval(10, 10, 25, 25, fill=color)\n",
    "        self.canvas.move(self.id, 245, 100)\n",
    "        self.score = score\n",
    "        starts = [-3, -2, -1, 1, 2, 3, 4]\n",
    "        random.shuffle(starts)\n",
    "        self.x = starts[0]\n",
    "        self.y = -3\n",
    "        self.canvas_height = self.canvas.winfo_height()\n",
    "        self.canvas_width = self.canvas.winfo_width()\n",
    "        self.hit_bottle = False\n",
    "        self.canvas.move(self.id, 245, 100)\n",
    "\n",
    "    def hit_paddle(self,pos):\n",
    "        paddle_pos = self.canvas.coords(self.paddle.id)\n",
    "        if pos[2]>=paddle_pos[0] and pos[0]<=paddle_pos[2]:\n",
    "            if pos[3]>= paddle_pos[1]and pos[3]<=paddle_pos[3]:\n",
    "                ball.score =ball.score+1\n",
    "                return True\n",
    "        return False\n",
    "\n",
    "\n",
    "    def draw(self):\n",
    "        self.canvas.move(self.id, self.x, self.y)\n",
    "        a = tkinter.Label(root ,text='21412')\n",
    "        pos = self.canvas.coords(self.id)\n",
    "        if pos[1] <= 0:\n",
    "            self.y = 3\n",
    "        if pos[0] <= 0:\n",
    "            self.x = 3\n",
    "        if pos[3] >= self.canvas_height:\n",
    "            self.score+=1\n",
    "            self.hit_bottle = True\n",
    "        if pos[2] >= self.canvas_width:\n",
    "            self.x = -3\n",
    "        if self.hit_paddle(pos)== True:\n",
    "            self.y=-3\n",
    "            # print pos\n",
    "        pass\n",
    "class Paddle:\n",
    "    def __init__(self,canvas,color):\n",
    "        self.canvas = canvas\n",
    "        self.id = canvas.create_rectangle(0,0,150,10,fill=color)\n",
    "        self.canvas.move(self.id,200,350)\n",
    "        self.x = 0\n",
    "        self.canvas_long  = self.canvas.winfo_width()\n",
    "        self.canvas.bind_all('<KeyPress-Left>',self.turn_left)\n",
    "        self.canvas.bind_all('<KeyPress-Right>',self.turn_right)\n",
    "\n",
    "    def turn_left(self,evt):\n",
    "        self.x = -3\n",
    "    def turn_right(self,evt):\n",
    "        self.x=3\n",
    "    def draw(self):\n",
    "        self.canvas.move(self.id,self.x,0)\n",
    "        pos = self.canvas.coords(self.id)\n",
    "        if pos[0]<=0:\n",
    "            self.x = 0\n",
    "        if pos[2]>=self.canvas_long:\n",
    "            self.x = 0\n",
    "\n",
    "        pass\n",
    "\n",
    "paddle = Paddle(canvas,'black')\n",
    "ball = Ball(canvas,paddle,'red',0)\n",
    "\n",
    "\n",
    "while True:\n",
    "    if ball.hit_bottle==False:\n",
    "        ball.draw()\n",
    "        paddle.draw()\n",
    "    else:\n",
    "        print(\"Game over, the ball falls. You have sucessfully catch the ball {0} times\".format(ball.score-1))\n",
    "        break\n",
    "\n",
    "    root.update_idletasks()\n",
    "    root.update()\n",
    "    time.sleep(0.01)\n"
   ]
  },
  {
   "cell_type": "code",
   "execution_count": null,
   "metadata": {},
   "outputs": [],
   "source": []
  }
 ],
 "metadata": {
  "kernelspec": {
   "display_name": "Python 3",
   "language": "python",
   "name": "python3"
  },
  "language_info": {
   "codemirror_mode": {
    "name": "ipython",
    "version": 3
   },
   "file_extension": ".py",
   "mimetype": "text/x-python",
   "name": "python",
   "nbconvert_exporter": "python",
   "pygments_lexer": "ipython3",
   "version": "3.6.5"
  }
 },
 "nbformat": 4,
 "nbformat_minor": 2
}
